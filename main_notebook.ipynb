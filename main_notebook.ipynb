{
 "cells": [
  {
   "cell_type": "code",
   "execution_count": 2,
   "id": "bb66c832-fe71-4393-a666-aacb087ad3a8",
   "metadata": {},
   "outputs": [],
   "source": [
    "import cv2\n",
    "import math\n",
    "import numpy as np"
   ]
  },
  {
   "cell_type": "code",
   "execution_count": 20,
   "id": "10aacb30-594e-41a9-bf0e-dcd5fa2ef6a5",
   "metadata": {},
   "outputs": [
    {
     "name": "stdout",
     "output_type": "stream",
     "text": [
      "Event is at frame 30.\n",
      "Data shape: (3, 40)\n",
      "Label shape: (3, 40)\n",
      "(array([[  4,  17,  30,  43,  56,  69,  82,  95, 108, 121, 134, 147, 160,\n",
      "        173, 186, 199, 212, 225, 238, 251, 264, 277, 290, 303, 316, 329,\n",
      "        342, 355, 368, 381, 394, 407, 420, 433, 446, 459, 472, 485, 498,\n",
      "        511],\n",
      "       [ 17,  30,  43,  56,  69,  82,  95, 108, 121, 134, 147, 160, 173,\n",
      "        186, 199, 212, 225, 238, 251, 264, 277, 290, 303, 316, 329, 342,\n",
      "        355, 368, 381, 394, 407, 420, 433, 446, 459, 472, 485, 498, 511,\n",
      "        524],\n",
      "       [ 30,  43,  56,  69,  82,  95, 108, 121, 134, 147, 160, 173, 186,\n",
      "        199, 212, 225, 238, 251, 264, 277, 290, 303, 316, 329, 342, 355,\n",
      "        368, 381, 394, 407, 420, 433, 446, 459, 472, 485, 498, 511, 524,\n",
      "        537]]), array([[0, 0, 1, 1, 1, 1, 1, 1, 1, 1, 1, 1, 1, 1, 1, 1, 1, 1, 1, 1, 1, 1,\n",
      "        1, 1, 1, 1, 1, 1, 1, 1, 1, 1, 1, 1, 1, 1, 1, 1, 1, 1],\n",
      "       [0, 1, 1, 1, 1, 1, 1, 1, 1, 1, 1, 1, 1, 1, 1, 1, 1, 1, 1, 1, 1, 1,\n",
      "        1, 1, 1, 1, 1, 1, 1, 1, 1, 1, 1, 1, 1, 1, 1, 1, 1, 1],\n",
      "       [1, 1, 1, 1, 1, 1, 1, 1, 1, 1, 1, 1, 1, 1, 1, 1, 1, 1, 1, 1, 1, 1,\n",
      "        1, 1, 1, 1, 1, 1, 1, 1, 1, 1, 1, 1, 1, 1, 1, 1, 1, 1]], dtype=int8))\n",
      "Event is at frame 30.\n",
      "Not possible for frame step 13 and sequence length 774. Maximum possible sequence length is 60\n",
      "Event is at frame 30.\n",
      "Data shape: (1, 60)\n",
      "Label shape: (1, 60)\n",
      "(array([[  4,  17,  30,  43,  56,  69,  82,  95, 108, 121, 134, 147, 160,\n",
      "        173, 186, 199, 212, 225, 238, 251, 264, 277, 290, 303, 316, 329,\n",
      "        342, 355, 368, 381, 394, 407, 420, 433, 446, 459, 472, 485, 498,\n",
      "        511, 524, 537, 550, 563, 576, 589, 602, 615, 628, 641, 654, 667,\n",
      "        680, 693, 706, 719, 732, 745, 758, 771]]), array([[0, 0, 1, 1, 1, 1, 1, 1, 1, 1, 1, 1, 1, 1, 1, 1, 1, 1, 1, 1, 1, 1,\n",
      "        1, 1, 1, 1, 1, 1, 1, 1, 1, 1, 1, 1, 1, 1, 1, 1, 1, 1, 1, 1, 1, 1,\n",
      "        1, 1, 1, 1, 1, 1, 1, 1, 1, 1, 1, 1, 1, 1, 1, 1]], dtype=int8))\n"
     ]
    }
   ],
   "source": [
    "def get_frames_with_labels(video_filepath, event_timestamp_millis, sequence_length, frame_step):\n",
    "    vid_cap = cv2.VideoCapture(video_filepath)\n",
    "\n",
    "    if not vid_cap.isOpened():\n",
    "        print(\"Error opening video\")\n",
    "        return None\n",
    "\n",
    "    vid_frame_count = vid_cap.get(cv2.CAP_PROP_FRAME_COUNT)\n",
    "    \n",
    "    vid_fps = vid_cap.get(cv2.CAP_PROP_FPS)\n",
    "    event_frame_index = math.floor(event_timestamp_millis / 1000 * vid_fps) # todo: revisit this if there is issue with indexing too early\n",
    "\n",
    "    print(f'Event is at frame {event_frame_index}.')\n",
    "    \n",
    "    max_frame_steps_event_to_beginning = math.floor(event_frame_index / frame_step)\n",
    "    max_frame_steps_event_to_end = math.floor((vid_frame_count - 1 - event_frame_index)/ frame_step) # reason for minus 1 is this is about index and not about frame count\n",
    "    max_possible_sequence_length = max_frame_steps_event_to_end + max_frame_steps_event_to_beginning + 1\n",
    "    \n",
    "    # plus 1 to include the event frame itself\n",
    "    if sequence_length > max_possible_sequence_length:\n",
    "        print(f\"Not possible for frame step {frame_step} and sequence length {sequence_length}. Maximum possible sequence length is {max_possible_sequence_length}\")\n",
    "        return None\n",
    "\n",
    "    # Min and max start frame in which the event frame is still included at the exact point\n",
    "    # considering the requested sequence length and frame step size.\n",
    "    min_start_frame_idx = event_frame_index - frame_step * min(sequence_length - 1, max_frame_steps_event_to_beginning)\n",
    "    max_start_frame_idx = event_frame_index - frame_step * max(0, sequence_length - 1 - max_frame_steps_event_to_end)\n",
    "\n",
    "    frame_indexes = []\n",
    "    \n",
    "    for start_frame_idx in range(min_start_frame_idx, (max_start_frame_idx + frame_step), frame_step):\n",
    "        # generate the index\n",
    "        frame_indexes.append([i for i in range(start_frame_idx, start_frame_idx + sequence_length * frame_step, frame_step)])\n",
    "\n",
    "    frame_indexes = np.array(frame_indexes)\n",
    "    labels = np.array(frame_indexes >= event_frame_index, dtype=np.int8)\n",
    "    \n",
    "    return frame_indexes, labels\n",
    "\n",
    "# test\n",
    "video_filepath = 'data/running_1.mp4'\n",
    "\n",
    "sample_result = get_frames_with_labels(video_filepath, event_timestamp_millis=1000, sequence_length=40, frame_step=13)\n",
    "assert sample_result is not None\n",
    "print(f'Data shape: {sample_result[0].shape}')\n",
    "print(f'Label shape: {sample_result[1].shape}')\n",
    "print(sample_result)\n",
    "\n",
    "sample_result = get_frames_with_labels(video_filepath, event_timestamp_millis=1000, sequence_length=774, frame_step=13)\n",
    "assert sample_result is None\n",
    "\n",
    "sample_result = get_frames_with_labels(video_filepath, event_timestamp_millis=1000, sequence_length=60, frame_step=13)\n",
    "assert sample_result is not None\n",
    "print(f'Data shape: {sample_result[0].shape}')\n",
    "print(f'Label shape: {sample_result[1].shape}')\n",
    "print(sample_result)"
   ]
  },
  {
   "cell_type": "code",
   "execution_count": null,
   "id": "52ea0b7b-ae3f-4153-a3bf-10026bf45b7a",
   "metadata": {},
   "outputs": [],
   "source": []
  }
 ],
 "metadata": {
  "kernelspec": {
   "display_name": "tensorflow",
   "language": "python",
   "name": "tensorflow"
  },
  "language_info": {
   "codemirror_mode": {
    "name": "ipython",
    "version": 3
   },
   "file_extension": ".py",
   "mimetype": "text/x-python",
   "name": "python",
   "nbconvert_exporter": "python",
   "pygments_lexer": "ipython3",
   "version": "3.10.9"
  }
 },
 "nbformat": 4,
 "nbformat_minor": 5
}
