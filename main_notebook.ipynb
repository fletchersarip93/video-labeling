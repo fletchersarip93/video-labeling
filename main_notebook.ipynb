{
 "cells": [
  {
   "cell_type": "code",
   "execution_count": 2,
   "id": "bb66c832-fe71-4393-a666-aacb087ad3a8",
   "metadata": {},
   "outputs": [],
   "source": [
    "import cv2\n",
    "import math\n",
    "import numpy as np"
   ]
  },
  {
   "cell_type": "code",
   "execution_count": 37,
   "id": "10aacb30-594e-41a9-bf0e-dcd5fa2ef6a5",
   "metadata": {},
   "outputs": [
    {
     "name": "stdout",
     "output_type": "stream",
     "text": [
      "Not possible for frame step 13 and sequence length 58\n",
      "55\n",
      "(4, 58)\n",
      "(array([[  0,  13,  26,  39,  52,  65,  78,  91, 104, 117, 130, 143, 156,\n",
      "        169, 182, 195, 208, 221, 234, 247, 260, 273, 286, 299, 312, 325,\n",
      "        338, 351, 364, 377, 390, 403, 416, 429, 442, 455, 468, 481, 494,\n",
      "        507, 520, 533, 546, 559, 572, 585, 598, 611, 624, 637, 650, 663,\n",
      "        676, 689, 702, 715, 728, 741],\n",
      "       [ 13,  26,  39,  52,  65,  78,  91, 104, 117, 130, 143, 156, 169,\n",
      "        182, 195, 208, 221, 234, 247, 260, 273, 286, 299, 312, 325, 338,\n",
      "        351, 364, 377, 390, 403, 416, 429, 442, 455, 468, 481, 494, 507,\n",
      "        520, 533, 546, 559, 572, 585, 598, 611, 624, 637, 650, 663, 676,\n",
      "        689, 702, 715, 728, 741, 754],\n",
      "       [ 26,  39,  52,  65,  78,  91, 104, 117, 130, 143, 156, 169, 182,\n",
      "        195, 208, 221, 234, 247, 260, 273, 286, 299, 312, 325, 338, 351,\n",
      "        364, 377, 390, 403, 416, 429, 442, 455, 468, 481, 494, 507, 520,\n",
      "        533, 546, 559, 572, 585, 598, 611, 624, 637, 650, 663, 676, 689,\n",
      "        702, 715, 728, 741, 754, 767],\n",
      "       [ 39,  52,  65,  78,  91, 104, 117, 130, 143, 156, 169, 182, 195,\n",
      "        208, 221, 234, 247, 260, 273, 286, 299, 312, 325, 338, 351, 364,\n",
      "        377, 390, 403, 416, 429, 442, 455, 468, 481, 494, 507, 520, 533,\n",
      "        546, 559, 572, 585, 598, 611, 624, 637, 650, 663, 676, 689, 702,\n",
      "        715, 728, 741, 754, 767, 780]]), array([[0, 0, 0, 1, 1, 1, 1, 1, 1, 1, 1, 1, 1, 1, 1, 1, 1, 1, 1, 1, 1, 1,\n",
      "        1, 1, 1, 1, 1, 1, 1, 1, 1, 1, 1, 1, 1, 1, 1, 1, 1, 1, 1, 1, 1, 1,\n",
      "        1, 1, 1, 1, 1, 1, 1, 1, 1, 1, 1, 1, 1, 1],\n",
      "       [0, 0, 1, 1, 1, 1, 1, 1, 1, 1, 1, 1, 1, 1, 1, 1, 1, 1, 1, 1, 1, 1,\n",
      "        1, 1, 1, 1, 1, 1, 1, 1, 1, 1, 1, 1, 1, 1, 1, 1, 1, 1, 1, 1, 1, 1,\n",
      "        1, 1, 1, 1, 1, 1, 1, 1, 1, 1, 1, 1, 1, 1],\n",
      "       [0, 1, 1, 1, 1, 1, 1, 1, 1, 1, 1, 1, 1, 1, 1, 1, 1, 1, 1, 1, 1, 1,\n",
      "        1, 1, 1, 1, 1, 1, 1, 1, 1, 1, 1, 1, 1, 1, 1, 1, 1, 1, 1, 1, 1, 1,\n",
      "        1, 1, 1, 1, 1, 1, 1, 1, 1, 1, 1, 1, 1, 1],\n",
      "       [1, 1, 1, 1, 1, 1, 1, 1, 1, 1, 1, 1, 1, 1, 1, 1, 1, 1, 1, 1, 1, 1,\n",
      "        1, 1, 1, 1, 1, 1, 1, 1, 1, 1, 1, 1, 1, 1, 1, 1, 1, 1, 1, 1, 1, 1,\n",
      "        1, 1, 1, 1, 1, 1, 1, 1, 1, 1, 1, 1, 1, 1]], dtype=int8))\n"
     ]
    }
   ],
   "source": [
    "def get_frames_with_labels(video_filepath, event_timestamp_millis, sequence_length, frame_step):\n",
    "    vid_cap = cv2.VideoCapture(video_filepath)\n",
    "\n",
    "    if not vid_cap.isOpened():\n",
    "        print(\"Error opening video\")\n",
    "        return None\n",
    "\n",
    "    vid_frame_count = vid_cap.get(cv2.CAP_PROP_FRAME_COUNT)\n",
    "    \n",
    "    vid_fps = vid_cap.get(cv2.CAP_PROP_FPS)\n",
    "    event_frame_index = math.floor(event_timestamp_millis / 1000 * vid_fps) # todo: revisit this if there is issue with indexing too early\n",
    "\n",
    "    max_frame_steps_event_to_beginning = math.floor(event_frame_index / frame_step)\n",
    "    max_frame_steps_event_to_end = math.floor((vid_frame_count - 1 - event_frame_index)/ frame_step) # reason for minus 1 is this is about index and not about frame count\n",
    "    \n",
    "    if max_frame_steps_event_to_end - max_frame_steps_event_to_beginning < sequence_length:\n",
    "        print(f\"Not possible for frame step {frame_step} and sequence length {sequence_length}\")\n",
    "        print(max_frame_steps_event_to_end - max_frame_steps_event_to_beginning)\n",
    "        # return None\n",
    "\n",
    "    min_start_frame_idx = max(event_frame_index - (frame_step * (sequence_length - 1)), 0)\n",
    "    max_start_frame_idx = min(event_frame_index, (vid_frame_count - 1) - (sequence_length - 1) * frame_step)\n",
    "\n",
    "    frame_indexes = []\n",
    "    \n",
    "    for start_frame_idx in range(min_start_frame_idx, (max_start_frame_idx + frame_step), frame_step):\n",
    "        # generate the index\n",
    "        frame_indexes.append([i for i in range(start_frame_idx, start_frame_idx + sequence_length * frame_step, frame_step)])\n",
    "\n",
    "    frame_indexes = np.array(frame_indexes)\n",
    "    labels = np.array(frame_indexes >= event_frame_index, dtype=np.int8)\n",
    "    \n",
    "    return frame_indexes, labels\n",
    "\n",
    "# test\n",
    "video_filepath = 'data/running_1.mp4'\n",
    "# assert get_frames_with_labels(video_filepath, event_timestamp_millis=1000, sequence_length=40, frame_step=13) is not None\n",
    "# assert get_frames_with_labels(video_filepath, event_timestamp_millis=1000, sequence_length=774, frame_step=13) is None\n",
    "result = get_frames_with_labels(video_filepath, event_timestamp_millis=1000, sequence_length=58, frame_step=13)\n",
    "print(result[0].shape)\n",
    "print(result)"
   ]
  },
  {
   "cell_type": "code",
   "execution_count": null,
   "id": "52ea0b7b-ae3f-4153-a3bf-10026bf45b7a",
   "metadata": {},
   "outputs": [],
   "source": []
  }
 ],
 "metadata": {
  "kernelspec": {
   "display_name": "tensorflow",
   "language": "python",
   "name": "tensorflow"
  },
  "language_info": {
   "codemirror_mode": {
    "name": "ipython",
    "version": 3
   },
   "file_extension": ".py",
   "mimetype": "text/x-python",
   "name": "python",
   "nbconvert_exporter": "python",
   "pygments_lexer": "ipython3",
   "version": "3.10.9"
  }
 },
 "nbformat": 4,
 "nbformat_minor": 5
}
